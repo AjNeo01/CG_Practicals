{
 "cells": [
  {
   "cell_type": "code",
   "execution_count": 1,
   "id": "680e9285",
   "metadata": {},
   "outputs": [
    {
     "data": {
      "image/png": "[encoded data removed]",
      "text/plain": [
       "<Figure size 432x288 with 1 Axes>"
      ]
     },
     "metadata": {
      "needs_background": "light"
     },
     "output_type": "display_data"
    }
   ],
   "source": [
    "import matplotlib.pyplot as plt\n",
    "\n",
    "def mid_point_circle(radius):\n",
    "    x = 0\n",
    "    y = radius\n",
    "    p = 1 - radius\n",
    "\n",
    "    x_points = []\n",
    "    y_points = []\n",
    "\n",
    "    while x <= y:\n",
    "        x_points.extend([x, -x, x, -x, y, -y, y, -y])\n",
    "        y_points.extend([y, y, -y, -y, x, x, -x, -x])\n",
    "        x += 1\n",
    "        if p < 0:\n",
    "            p += 2 * x + 1\n",
    "        else:\n",
    "            y -= 1\n",
    "            p += 2 * (x - y) + 1\n",
    "    \n",
    "    return x_points, y_points\n",
    "\n",
    "# Set the radius of the circle\n",
    "radius = 5\n",
    "\n",
    "# Generate the points on the circle using the Mid-Point Circle algorithm\n",
    "x_points, y_points = mid_point_circle(radius)\n",
    "\n",
    "# Plot the circle\n",
    "plt.plot(x_points, y_points, 'b.')\n",
    "plt.axis('scaled')\n",
    "plt.title('Mid-Point Circle Algorithm')\n",
    "plt.show()\n"
   ]
  }
 ],
 "metadata": {
  "kernelspec": {
   "display_name": "Python 3 (ipykernel)",
   "language": "python",
   "name": "python3"
  },
  "language_info": {
   "codemirror_mode": {
    "name": "ipython",
    "version": 3
   },
   "file_extension": ".py",
   "mimetype": "text/x-python",
   "name": "python",
   "nbconvert_exporter": "python",
   "pygments_lexer": "ipython3",
   "version": "3.12.2"
  }
 },
 "nbformat": 4,
 "nbformat_minor": 5
}
